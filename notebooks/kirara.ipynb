{
 "cells": [
  {
   "cell_type": "code",
   "execution_count": 1,
   "metadata": {},
   "outputs": [],
   "source": [
    "import os\n",
    "os.chdir(os.getcwd() + \"\\..\")"
   ]
  },
  {
   "cell_type": "code",
   "execution_count": 2,
   "metadata": {},
   "outputs": [],
   "source": [
    "from src import damage"
   ]
  },
  {
   "attachments": {},
   "cell_type": "markdown",
   "metadata": {},
   "source": [
    "## Кирара\n",
    "\n",
    "### Базовые статы + таланты"
   ]
  },
  {
   "cell_type": "code",
   "execution_count": 3,
   "metadata": {},
   "outputs": [],
   "source": [
    "kirara_base_hp = 12180\n",
    "kirara_base_atk = 223\n",
    "kirara_hp_ascention = 0.2\n",
    "\n",
    "def kirara_shield_absorbtion(hp):\n",
    "    return 0.17 * hp + 1956\n",
    "\n",
    "def kirara_max_shield_absorbtion(hp):\n",
    "    return 0.272 * hp + 3133\n",
    "\n",
    "def kirara_reinforced_packaging(hp):\n",
    "    return kirara_shield_absorbtion(hp) * 0.2\n",
    "\n",
    "kirara_ult_mv = 9.694 + 0.606 * 4"
   ]
  },
  {
   "attachments": {},
   "cell_type": "markdown",
   "metadata": {},
   "source": [
    "### Билд\n",
    "\n",
    "Допустим, дабл ХП + 40% из подстатов. В шапке крит, что фав факинг прокал. Допустим она на дендро сете."
   ]
  },
  {
   "cell_type": "code",
   "execution_count": 4,
   "metadata": {},
   "outputs": [],
   "source": [
    "artifacts_hp_percent = 0.466 * 2 + 0.4\n",
    "artifacts_flat_hp = 4000\n",
    "# Реализуемо ок? ок\n",
    "artifacts_atk_percent = 0.2\n",
    "artifacts_flat_atk = 400\n",
    "favge_base = 454"
   ]
  },
  {
   "attachments": {},
   "cell_type": "markdown",
   "metadata": {},
   "source": [
    "### Сколько же танчит ее щит?"
   ]
  },
  {
   "cell_type": "code",
   "execution_count": 5,
   "metadata": {},
   "outputs": [
    {
     "data": {
      "text/plain": [
       "34839.76"
      ]
     },
     "execution_count": 5,
     "metadata": {},
     "output_type": "execute_result"
    }
   ],
   "source": [
    "kirara_total_hp = damage.total_hp(kirara_base_hp, artifacts_hp_percent + kirara_hp_ascention, artifacts_flat_hp)\n",
    "kirara_total_hp"
   ]
  },
  {
   "attachments": {},
   "cell_type": "markdown",
   "metadata": {},
   "source": [
    "Базовое ХП щита и максимальное"
   ]
  },
  {
   "cell_type": "code",
   "execution_count": 6,
   "metadata": {},
   "outputs": [
    {
     "data": {
      "text/plain": [
       "7878.7592"
      ]
     },
     "execution_count": 6,
     "metadata": {},
     "output_type": "execute_result"
    }
   ],
   "source": [
    "damage.shield_hp(kirara_shield_absorbtion(kirara_total_hp), 1, 1)"
   ]
  },
  {
   "cell_type": "code",
   "execution_count": 7,
   "metadata": {},
   "outputs": [
    {
     "data": {
      "text/plain": [
       "12609.41472"
      ]
     },
     "execution_count": 7,
     "metadata": {},
     "output_type": "execute_result"
    }
   ],
   "source": [
    "damage.shield_hp(kirara_max_shield_absorbtion(kirara_total_hp), 1, 1, 1)"
   ]
  },
  {
   "attachments": {},
   "cell_type": "markdown",
   "metadata": {},
   "source": [
    "Что если урон - дендро (что вполне реально в блум и барджион командах)"
   ]
  },
  {
   "cell_type": "code",
   "execution_count": 8,
   "metadata": {},
   "outputs": [
    {
     "name": "stdout",
     "output_type": "stream",
     "text": [
      "19696.898\n",
      "31523.5368\n"
     ]
    }
   ],
   "source": [
    "print(damage.shield_hp(kirara_shield_absorbtion(kirara_total_hp), 1, 2.5))\n",
    "print(damage.shield_hp(kirara_max_shield_absorbtion(kirara_total_hp), 1, 2.5))"
   ]
  },
  {
   "attachments": {},
   "cell_type": "markdown",
   "metadata": {},
   "source": [
    "Дополнительные щиты от ее А1. За одну ешку не смогут настакать максимум."
   ]
  },
  {
   "cell_type": "code",
   "execution_count": 8,
   "metadata": {},
   "outputs": [
    {
     "data": {
      "text/plain": [
       "1575.7518400000001"
      ]
     },
     "execution_count": 8,
     "metadata": {},
     "output_type": "execute_result"
    }
   ],
   "source": [
    "damage.shield_hp(kirara_reinforced_packaging(kirara_total_hp), 1, 1)"
   ]
  },
  {
   "attachments": {},
   "cell_type": "markdown",
   "metadata": {},
   "source": [
    "### Сколько же наносит ее ульта?"
   ]
  },
  {
   "cell_type": "code",
   "execution_count": 9,
   "metadata": {},
   "outputs": [
    {
     "data": {
      "text/plain": [
       "21784.800739393642"
      ]
     },
     "execution_count": 9,
     "metadata": {},
     "output_type": "execute_result"
    }
   ],
   "source": [
    "kirara_total_atk = damage.total_atk(kirara_base_atk + favge_base, artifacts_atk_percent, artifacts_flat_atk)\n",
    "kirara_a4_ult_buff = kirara_total_hp / 1000 * 0.003\n",
    "effective_talent = damage.effective_talent(kirara_total_atk, cd=1, cr=0.5, crit_ratio=0.5, dmg_bonus=1 + 0.15 + kirara_a4_ult_buff)\n",
    "talent_dmg = damage.talent_dmg(effective_talent, kirara_ult_mv)\n",
    "outgoing_dmg = damage.outgoing_dmg_multiplicative(talent_dmg, character_level=90, enemy_level=100)\n",
    "outgoing_dmg"
   ]
  },
  {
   "cell_type": "code",
   "execution_count": 13,
   "metadata": {},
   "outputs": [
    {
     "data": {
      "text/plain": [
       "0.10451928000000002"
      ]
     },
     "execution_count": 13,
     "metadata": {},
     "output_type": "execute_result"
    }
   ],
   "source": [
    "kirara_a4_ult_buff"
   ]
  },
  {
   "attachments": {},
   "cell_type": "markdown",
   "metadata": {},
   "source": [
    "10% BAAAATCHEEEST"
   ]
  },
  {
   "attachments": {},
   "cell_type": "markdown",
   "metadata": {},
   "source": [
    "## Дед\n",
    "\n",
    "### Базовые статы + таланты"
   ]
  },
  {
   "cell_type": "code",
   "execution_count": 10,
   "metadata": {},
   "outputs": [],
   "source": [
    "ded_base_hp = 14695\n",
    "ded_base_atk = 251\n",
    "\n",
    "def ded_shield_absorbtion(hp):\n",
    "    return 0.218 * hp + 2506\n"
   ]
  },
  {
   "attachments": {},
   "cell_type": "markdown",
   "metadata": {},
   "source": [
    "Билд тот же самый, что и у Кирары (и тоже дендро сет, потому что дед может прокать дендро сет)\n",
    "\n",
    "### Что по щиту? - самый прочный в игре"
   ]
  },
  {
   "cell_type": "code",
   "execution_count": 11,
   "metadata": {},
   "outputs": [
    {
     "data": {
      "text/plain": [
       "38268.74"
      ]
     },
     "execution_count": 11,
     "metadata": {},
     "output_type": "execute_result"
    }
   ],
   "source": [
    "ded_total_hp = damage.total_hp(ded_base_hp, artifacts_hp_percent, artifacts_flat_hp)\n",
    "ded_total_hp"
   ]
  },
  {
   "cell_type": "code",
   "execution_count": 12,
   "metadata": {},
   "outputs": [
    {
     "data": {
      "text/plain": [
       "20341.097475"
      ]
     },
     "execution_count": 12,
     "metadata": {},
     "output_type": "execute_result"
    }
   ],
   "source": [
    "damage.shield_hp(ded_shield_absorbtion(ded_total_hp), 1, shield_strength=1 + 0.05*5, damage_absorbtion=1.5)"
   ]
  },
  {
   "attachments": {},
   "cell_type": "markdown",
   "metadata": {},
   "source": [
    "## И что в итоге:\n",
    "\n",
    "Кирара:\n",
    "\n",
    "- Макс прочность щита 12609 (также учитываем, что эти 12к тебе \"даются\" не сразу) (но от дендро урона прочность возрастает до 31к!!!)\n",
    "\n",
    "- 100% аптайм щита\n",
    "\n",
    "- Анимация прожатия щита почти моментальная\n",
    "\n",
    "- Энергонезависимая\n",
    "\n",
    "- Солидный нюк на ульте, который не жалко использовать\n",
    "\n",
    "- Нюк на ульте накладывает ДЕНДРО\n",
    "\n",
    "- Режет дендро резист на 30%\n",
    "\n",
    "- **Может накладывать дендро**\n",
    "\n",
    "- Дендро: не выключает Нилу, закрывает дендро резонанс\n",
    "\n",
    "- Милилит почти не работает (там где он нужен, как правило ты не захочешь находиться в ешке)\n",
    "\n",
    "- Кошкодевочка\n",
    "\n",
    "Дед:\n",
    "\n",
    "- Макс прочность щита 20341\n",
    "\n",
    "- 100% аптайм щита\n",
    "\n",
    "- Анимация прожатия щита долгая и неудобная\n",
    "\n",
    "- Энергонезависимый\n",
    "\n",
    "- Нюк на ульте, который ты не будешь использовать (петрификация бесполезная кста)\n",
    "\n",
    "- Нюк на ульте ничего не накладывает\n",
    "\n",
    "- Режет дендро резист на 30% + все резисты на 20%\n",
    "\n",
    "- Ничего не накладывает, лол\n",
    "\n",
    "- Гео, лол\n",
    "\n",
    "- Милилит хорошо работает\n",
    "\n",
    "- Какой-то старый дед"
   ]
  }
 ],
 "metadata": {
  "kernelspec": {
   "display_name": "Python 3",
   "language": "python",
   "name": "python3"
  },
  "language_info": {
   "codemirror_mode": {
    "name": "ipython",
    "version": 3
   },
   "file_extension": ".py",
   "mimetype": "text/x-python",
   "name": "python",
   "nbconvert_exporter": "python",
   "pygments_lexer": "ipython3",
   "version": "3.10.8"
  },
  "orig_nbformat": 4
 },
 "nbformat": 4,
 "nbformat_minor": 2
}
