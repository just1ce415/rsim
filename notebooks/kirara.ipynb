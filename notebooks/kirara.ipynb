{
 "cells": [
  {
   "cell_type": "code",
   "execution_count": 100,
   "metadata": {},
   "outputs": [],
   "source": [
    "import os\n",
    "os.chdir(os.getcwd() + \"\\..\")"
   ]
  },
  {
   "cell_type": "code",
   "execution_count": 101,
   "metadata": {},
   "outputs": [],
   "source": [
    "from src import damage"
   ]
  },
  {
   "attachments": {},
   "cell_type": "markdown",
   "metadata": {},
   "source": [
    "## Кирара\n",
    "\n",
    "### Базовые статы + таланты"
   ]
  },
  {
   "cell_type": "code",
   "execution_count": 114,
   "metadata": {},
   "outputs": [],
   "source": [
    "kirara_base_hp = 12180\n",
    "kirara_base_atk = 223\n",
    "kirara_hp_ascention = 0.24\n",
    "\n",
    "def kirara_shield_absorbtion(hp):\n",
    "    return 0.17 * hp + 1956\n",
    "\n",
    "def kirara_max_shield_absorbtion(hp):\n",
    "    return 0.272 * hp + 3133\n",
    "\n",
    "def kirara_reinforced_packaging(hp, stacks=3):\n",
    "    return kirara_shield_absorbtion(hp) * 0.2 * stacks\n",
    "\n",
    "def kirara_min_reinf_stacked(hp, stacks=3):\n",
    "    return kirara_shield_absorbtion(hp) + kirara_reinforced_packaging(hp, stacks=stacks)\n",
    "\n",
    "kirara_ult_mv = 9.694 + 0.606 * 4"
   ]
  },
  {
   "attachments": {},
   "cell_type": "markdown",
   "metadata": {},
   "source": [
    "### Билд\n",
    "\n",
    "Допустим, дабл ХП + 40% из подстатов. В шапке крит, чтоб фав факинг прокал. Допустим она на дендро сете."
   ]
  },
  {
   "cell_type": "code",
   "execution_count": 115,
   "metadata": {},
   "outputs": [],
   "source": [
    "artifacts_hp_percent = 0.466 * 2 + 0.4\n",
    "artifacts_flat_hp = 4000\n",
    "# Реализуемо ок? ок\n",
    "artifacts_atk_percent = 0.2\n",
    "artifacts_flat_atk = 400\n",
    "favge_base = 454"
   ]
  },
  {
   "attachments": {},
   "cell_type": "markdown",
   "metadata": {},
   "source": [
    "### Сколько же танчит ее щит?"
   ]
  },
  {
   "cell_type": "code",
   "execution_count": 117,
   "metadata": {},
   "outputs": [
    {
     "data": {
      "text/plain": [
       "35326.96"
      ]
     },
     "execution_count": 117,
     "metadata": {},
     "output_type": "execute_result"
    }
   ],
   "source": [
    "kirara_total_hp = damage.total_hp(kirara_base_hp, artifacts_hp_percent + kirara_hp_ascention, artifacts_flat_hp)\n",
    "kirara_total_hp"
   ]
  },
  {
   "attachments": {},
   "cell_type": "markdown",
   "metadata": {},
   "source": [
    "Как стакается А4:\n",
    "\n",
    "Геовишап\n",
    "\n",
    "Удар1: 4164\n",
    "\n",
    "Удар2: 5205\n",
    "\n",
    "Удар3: 6505"
   ]
  },
  {
   "cell_type": "code",
   "execution_count": 97,
   "metadata": {},
   "outputs": [
    {
     "name": "stdout",
     "output_type": "stream",
     "text": [
      "4838.35\n",
      "6773.6900000000005\n",
      "7741.360000000001\n"
     ]
    }
   ],
   "source": [
    "print(damage.shield_hp(kirara_shield_absorbtion(16955), 1))\n",
    "print(damage.shield_hp(kirara_min_reinf_stacked(16955, stacks=2), 1))\n",
    "print(damage.shield_hp(kirara_min_reinf_stacked(16955, stacks=3), 1))"
   ]
  },
  {
   "cell_type": "code",
   "execution_count": 118,
   "metadata": {},
   "outputs": [
    {
     "data": {
      "text/plain": [
       "1667"
      ]
     },
     "execution_count": 118,
     "metadata": {},
     "output_type": "execute_result"
    }
   ],
   "source": [
    "# Все сходится: урон 3го удара геовишапа при слабом щите\n",
    "6505 - 4838"
   ]
  },
  {
   "cell_type": "code",
   "execution_count": 119,
   "metadata": {},
   "outputs": [
    {
     "name": "stdout",
     "output_type": "stream",
     "text": [
      "Урон со 3го удара (после 2го) при двух стаках: 4937\n",
      "Урон со 3го удара (после 2го) при трех стаках: 3969\n"
     ]
    }
   ],
   "source": [
    "print(\"Урон со 3го удара (после 2го) при двух стаках:\", 6505 + 5205 - 6773)\n",
    "print(\"Урон со 3го удара (после 2го) при трех стаках:\", 6505 + 5205 - 7741)"
   ]
  },
  {
   "attachments": {},
   "cell_type": "markdown",
   "metadata": {},
   "source": [
    "Базовое ХП щита и максимальное"
   ]
  },
  {
   "cell_type": "code",
   "execution_count": 120,
   "metadata": {},
   "outputs": [
    {
     "data": {
      "text/plain": [
       "7961.5832"
      ]
     },
     "execution_count": 120,
     "metadata": {},
     "output_type": "execute_result"
    }
   ],
   "source": [
    "damage.shield_hp(kirara_shield_absorbtion(kirara_total_hp), 1)"
   ]
  },
  {
   "cell_type": "code",
   "execution_count": 121,
   "metadata": {},
   "outputs": [
    {
     "data": {
      "text/plain": [
       "12741.93312"
      ]
     },
     "execution_count": 121,
     "metadata": {},
     "output_type": "execute_result"
    }
   ],
   "source": [
    "damage.shield_hp(kirara_max_shield_absorbtion(kirara_total_hp), 1)"
   ]
  },
  {
   "attachments": {},
   "cell_type": "markdown",
   "metadata": {},
   "source": [
    "Вместе со стаками А1 начальное значение должно быть больше"
   ]
  },
  {
   "attachments": {},
   "cell_type": "markdown",
   "metadata": {},
   "source": [
    "Дополнительные щиты (ХП) от ее А1. За одну ешку смогут настакать почти до максимума."
   ]
  },
  {
   "cell_type": "code",
   "execution_count": 122,
   "metadata": {},
   "outputs": [
    {
     "data": {
      "text/plain": [
       "4776.94992"
      ]
     },
     "execution_count": 122,
     "metadata": {},
     "output_type": "execute_result"
    }
   ],
   "source": [
    "damage.shield_hp(kirara_reinforced_packaging(kirara_total_hp), 1)"
   ]
  },
  {
   "cell_type": "code",
   "execution_count": 123,
   "metadata": {},
   "outputs": [
    {
     "data": {
      "text/plain": [
       "12738.53312"
      ]
     },
     "execution_count": 123,
     "metadata": {},
     "output_type": "execute_result"
    }
   ],
   "source": [
    "damage.shield_hp(kirara_min_reinf_stacked(kirara_total_hp), 1)"
   ]
  },
  {
   "attachments": {},
   "cell_type": "markdown",
   "metadata": {},
   "source": [
    "Но измерения лишь ХП щита не дают полной картины о его прочности. Нужно также учитывать его кд. Берем КД 8, но максимальный составляет 12. Мы не хотим, чтобы он составлял 12."
   ]
  },
  {
   "cell_type": "code",
   "execution_count": 124,
   "metadata": {},
   "outputs": [
    {
     "name": "stdout",
     "output_type": "stream",
     "text": [
      "1415.392568888889\n",
      "1592.74164\n"
     ]
    }
   ],
   "source": [
    "print(damage.shield_hp(kirara_min_reinf_stacked(kirara_total_hp), 1)/9)\n",
    "print(damage.shield_hp(kirara_max_shield_absorbtion(kirara_total_hp), 1)/8)"
   ]
  },
  {
   "attachments": {},
   "cell_type": "markdown",
   "metadata": {},
   "source": [
    "Что если урон - дендро (что вполне реально в блум и барджион командах)"
   ]
  },
  {
   "cell_type": "code",
   "execution_count": 125,
   "metadata": {},
   "outputs": [
    {
     "name": "stdout",
     "output_type": "stream",
     "text": [
      "3538.481422222222\n",
      "3981.8541\n"
     ]
    }
   ],
   "source": [
    "print(damage.shield_hp(kirara_min_reinf_stacked(kirara_total_hp), 1, damage_absorbtion=2.5)/9)\n",
    "print(damage.shield_hp(kirara_max_shield_absorbtion(kirara_total_hp), 1, damage_absorbtion=2.5)/8)"
   ]
  },
  {
   "attachments": {},
   "cell_type": "markdown",
   "metadata": {},
   "source": [
    "Под Милилитом (не реалистично)"
   ]
  },
  {
   "cell_type": "code",
   "execution_count": 126,
   "metadata": {},
   "outputs": [
    {
     "name": "stdout",
     "output_type": "stream",
     "text": [
      "1380.0077546666669\n",
      "1380.376088\n"
     ]
    }
   ],
   "source": [
    "print(damage.shield_hp(kirara_min_reinf_stacked(kirara_total_hp), 1, shield_strength=1.3)/12)\n",
    "print(damage.shield_hp(kirara_max_shield_absorbtion(kirara_total_hp), 1, shield_strength=1.3)/12)"
   ]
  },
  {
   "attachments": {},
   "cell_type": "markdown",
   "metadata": {},
   "source": [
    "### Сколько же наносит ее ульта?"
   ]
  },
  {
   "cell_type": "code",
   "execution_count": 127,
   "metadata": {},
   "outputs": [
    {
     "data": {
      "text/plain": [
       "26643.12906304656"
      ]
     },
     "execution_count": 127,
     "metadata": {},
     "output_type": "execute_result"
    }
   ],
   "source": [
    "kirara_total_atk = damage.total_atk(kirara_base_atk + favge_base, artifacts_atk_percent, artifacts_flat_atk)\n",
    "kirara_a4_ult_buff = kirara_total_hp / 1000 * 0.003\n",
    "effective_talent = damage.effective_talent(kirara_total_atk, cd=1, cr=0.5, crit_ratio=0.5, dmg_bonus=1 + 0.15 + kirara_a4_ult_buff)\n",
    "talent_dmg = damage.talent_dmg(effective_talent, kirara_ult_mv)\n",
    "outgoing_dmg = damage.outgoing_dmg_multiplicative(talent_dmg, character_level=90, enemy_level=100, enemy_resistance=-0.2) # Срез резиста от дендро сета\n",
    "outgoing_dmg"
   ]
  },
  {
   "cell_type": "code",
   "execution_count": 128,
   "metadata": {},
   "outputs": [
    {
     "data": {
      "text/plain": [
       "0.10598088"
      ]
     },
     "execution_count": 128,
     "metadata": {},
     "output_type": "execute_result"
    }
   ],
   "source": [
    "kirara_a4_ult_buff"
   ]
  },
  {
   "attachments": {},
   "cell_type": "markdown",
   "metadata": {},
   "source": [
    "10% BAAAATCHEEEST"
   ]
  },
  {
   "attachments": {},
   "cell_type": "markdown",
   "metadata": {},
   "source": [
    "## Дед\n",
    "\n",
    "### Базовые статы + таланты"
   ]
  },
  {
   "cell_type": "code",
   "execution_count": 129,
   "metadata": {},
   "outputs": [],
   "source": [
    "ded_base_hp = 14695\n",
    "ded_base_atk = 251\n",
    "\n",
    "def ded_shield_absorbtion(hp):\n",
    "    return 0.218 * hp + 2506\n"
   ]
  },
  {
   "attachments": {},
   "cell_type": "markdown",
   "metadata": {},
   "source": [
    "Билд тот же самый, что и у Кирары (и тоже дендро сет, потому что дед может прокать дендро сет)\n",
    "\n",
    "### Что по щиту? - самый прочный в игре"
   ]
  },
  {
   "cell_type": "code",
   "execution_count": 130,
   "metadata": {},
   "outputs": [
    {
     "data": {
      "text/plain": [
       "38268.74"
      ]
     },
     "execution_count": 130,
     "metadata": {},
     "output_type": "execute_result"
    }
   ],
   "source": [
    "ded_total_hp = damage.total_hp(ded_base_hp, artifacts_hp_percent, artifacts_flat_hp)\n",
    "ded_total_hp"
   ]
  },
  {
   "cell_type": "code",
   "execution_count": 131,
   "metadata": {},
   "outputs": [
    {
     "data": {
      "text/plain": [
       "20341.097475"
      ]
     },
     "execution_count": 131,
     "metadata": {},
     "output_type": "execute_result"
    }
   ],
   "source": [
    "damage.shield_hp(ded_shield_absorbtion(ded_total_hp), 1, shield_strength=1 + 0.05*5, damage_absorbtion=1.5)"
   ]
  },
  {
   "attachments": {},
   "cell_type": "markdown",
   "metadata": {},
   "source": [
    "ХП щита за секунду"
   ]
  },
  {
   "cell_type": "code",
   "execution_count": 132,
   "metadata": {},
   "outputs": [
    {
     "data": {
      "text/plain": [
       "1695.09145625"
      ]
     },
     "execution_count": 132,
     "metadata": {},
     "output_type": "execute_result"
    }
   ],
   "source": [
    "damage.shield_hp(ded_shield_absorbtion(ded_total_hp), 1, shield_strength=1 + 0.05*5, damage_absorbtion=1.5) / 12"
   ]
  },
  {
   "attachments": {},
   "cell_type": "markdown",
   "metadata": {},
   "source": [
    "## И что в итоге:\n",
    "\n",
    "Кирара:\n",
    "\n",
    "- Макс проч. 1592 ХП/сек, на деле 1415 ХП/сек (3500 ХП/сек против дендро) по-хорошему: 9 секунд, иначе 12 сек\n",
    "\n",
    "- 100% щита\n",
    "\n",
    "- Хороший нюк, который скорее всего будешь использовать\n",
    "\n",
    "- Энергонезависимая + ДЕДНРО батарейка\n",
    "\n",
    "- Режет дендро резист на 30%\n",
    "\n",
    "- Она может накладывать деднро (?)\n",
    "\n",
    "- Деднро: резонанс + не выключает Нилу\n",
    "\n",
    "- Миллилит почти не работает\n",
    "\n",
    "- Кошкодевочка\n",
    "\n",
    "\n",
    "Дед:\n",
    "\n",
    "- Макс проч. 1695 ХП/сек, по-хорошему на 12 сек\n",
    "\n",
    "- 100% щита\n",
    "\n",
    "- Нюк, который не будещь использовать (петрификация бесполезная кста)\n",
    "\n",
    "- Энергонезависимый + гео\n",
    "\n",
    "- Режет дендро на 30% и все 20%\n",
    "\n",
    "- Может накладывать ничего\n",
    "\n",
    "- Гео\n",
    "\n",
    "- Может носить Миллилит\n",
    "\n",
    "- Какой-то старый дед"
   ]
  },
  {
   "attachments": {},
   "cell_type": "markdown",
   "metadata": {},
   "source": [
    "А просто что если: Кирара сможет прокать Милилит из вне поля?"
   ]
  },
  {
   "cell_type": "code",
   "execution_count": 134,
   "metadata": {},
   "outputs": [
    {
     "name": "stdout",
     "output_type": "stream",
     "text": [
      "2264.6281102222224\n",
      "2548.386624\n"
     ]
    }
   ],
   "source": [
    "print(damage.shield_hp(kirara_min_reinf_stacked(kirara_total_hp), 1, shield_strength=1.6)/9)\n",
    "print(damage.shield_hp(kirara_max_shield_absorbtion(kirara_total_hp), 1, shield_strength=1.6)/8)"
   ]
  },
  {
   "cell_type": "code",
   "execution_count": 135,
   "metadata": {},
   "outputs": [
    {
     "data": {
      "text/plain": [
       "2508.7353552500003"
      ]
     },
     "execution_count": 135,
     "metadata": {},
     "output_type": "execute_result"
    }
   ],
   "source": [
    "damage.shield_hp(ded_shield_absorbtion(ded_total_hp), 1, shield_strength=1 + 0.05*5 + 0.6, damage_absorbtion=1.5) / 12"
   ]
  }
 ],
 "metadata": {
  "kernelspec": {
   "display_name": "Python 3",
   "language": "python",
   "name": "python3"
  },
  "language_info": {
   "codemirror_mode": {
    "name": "ipython",
    "version": 3
   },
   "file_extension": ".py",
   "mimetype": "text/x-python",
   "name": "python",
   "nbconvert_exporter": "python",
   "pygments_lexer": "ipython3",
   "version": "3.11.2"
  },
  "orig_nbformat": 4
 },
 "nbformat": 4,
 "nbformat_minor": 2
}
